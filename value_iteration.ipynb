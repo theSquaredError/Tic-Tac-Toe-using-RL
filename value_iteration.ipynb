{
  "cells": [
    {
      "cell_type": "code",
      "execution_count": null,
      "id": "fbc340c2",
      "metadata": {
        "id": "fbc340c2"
      },
      "outputs": [],
      "source": [
        "import numpy as np\n",
        "import pickle"
      ]
    },
    {
      "cell_type": "code",
      "source": [
        "from google.colab import drive\n",
        "drive.mount('/content/drive')"
      ],
      "metadata": {
        "colab": {
          "base_uri": "https://localhost:8080/"
        },
        "id": "RU3-ox0lrsnv",
        "outputId": "9abbec4b-fa66-431a-b0f0-dc99cbb80d18"
      },
      "id": "RU3-ox0lrsnv",
      "execution_count": null,
      "outputs": [
        {
          "output_type": "stream",
          "name": "stdout",
          "text": [
            "Mounted at /content/drive\n"
          ]
        }
      ]
    },
    {
      "cell_type": "code",
      "execution_count": null,
      "id": "47d38d86",
      "metadata": {
        "id": "47d38d86"
      },
      "outputs": [],
      "source": [
        "with open('/content/drive/MyDrive/RL/new/states.data', 'rb') as filehandle:\n",
        "    # read the data as binary data stream\n",
        "    STATES = pickle.load(filehandle)"
      ]
    },
    {
      "cell_type": "code",
      "execution_count": null,
      "id": "4f5b2151",
      "metadata": {
        "id": "4f5b2151"
      },
      "outputs": [],
      "source": [
        "with open('/content/drive/MyDrive/RL/new/transition_prob.data', 'rb') as filehandle:\n",
        "    # read the data as binary data stream\n",
        "    transition_probability = pickle.load(filehandle)"
      ]
    },
    {
      "cell_type": "code",
      "source": [
        "len(STATES)"
      ],
      "metadata": {
        "colab": {
          "base_uri": "https://localhost:8080/"
        },
        "id": "FMA70S3VsDT8",
        "outputId": "7e539109-7342-4f0a-a728-7a19b4b13716"
      },
      "id": "FMA70S3VsDT8",
      "execution_count": null,
      "outputs": [
        {
          "output_type": "execute_result",
          "data": {
            "text/plain": [
              "3381"
            ]
          },
          "metadata": {},
          "execution_count": 5
        }
      ]
    },
    {
      "cell_type": "code",
      "execution_count": null,
      "id": "700d306a",
      "metadata": {
        "id": "700d306a"
      },
      "outputs": [],
      "source": [
        "STATES = np.asarray(STATES) "
      ]
    },
    {
      "cell_type": "code",
      "source": [
        "print(STATES[3380])"
      ],
      "metadata": {
        "colab": {
          "base_uri": "https://localhost:8080/"
        },
        "id": "a8zAC8CssH1N",
        "outputId": "5dacbbed-ce94-40fd-da14-73f7419ed703"
      },
      "id": "a8zAC8CssH1N",
      "execution_count": null,
      "outputs": [
        {
          "output_type": "stream",
          "name": "stdout",
          "text": [
            "[2 2 1 2 1 1 1 2 1]\n"
          ]
        }
      ]
    },
    {
      "cell_type": "code",
      "execution_count": null,
      "id": "2cefcfba",
      "metadata": {
        "id": "2cefcfba"
      },
      "outputs": [],
      "source": [
        "def check_game_over_3(markers):\n",
        "  game_over = False\n",
        "  tie = False\n",
        "  winner =0\n",
        "  x_pos = 0\n",
        "  for x in markers:\n",
        "    #check columns\n",
        "    if sum(x) == 3:\n",
        "      winner = 1\n",
        "      game_over = True\n",
        "    if sum(x) == -3:\n",
        "      winner = 2\n",
        "      game_over = True\n",
        "    \n",
        "    #check rows\n",
        "    if markers[0][x_pos] + markers [1][x_pos] + markers [2][x_pos] == 3:\n",
        "      winner = 1\n",
        "      game_over = True\n",
        "    if markers[0][x_pos] + markers [1][x_pos] + markers [2][x_pos] == -3:\n",
        "      winner = 2\n",
        "      game_over = True\n",
        "    x_pos += 1\n",
        "\n",
        "  #check cross\n",
        "  if markers[0][0] + markers[1][1] + markers [2][2] == 3 or markers[2][0] + markers[1][1] + markers [0][2] == 3:\n",
        "    winner = 1\n",
        "    game_over = True\n",
        "  if markers[0][0] + markers[1][1] + markers [2][2] == -3 or markers[2][0] + markers[1][1] + markers [0][2] == -3:\n",
        "    winner = 2\n",
        "    game_over = True\n",
        "\n",
        "  #check for tie\n",
        "  if game_over == False:\n",
        "    tie = True\n",
        "    for row in markers:\n",
        "      for i in row:\n",
        "        if i == 0:\n",
        "          tie = False\n",
        "    #if it is a tie, then call game over and set winner to 0 (no one)\n",
        "    if tie == True:\n",
        "      game_over = True\n",
        "      winner = 0\n",
        "  return game_over,winner,tie\n",
        "  # if game_over == False:"
      ]
    },
    {
      "cell_type": "code",
      "execution_count": null,
      "id": "dada6896",
      "metadata": {
        "id": "dada6896"
      },
      "outputs": [],
      "source": [
        ""
      ]
    },
    {
      "cell_type": "code",
      "execution_count": null,
      "id": "aa7e89a1",
      "metadata": {
        "id": "aa7e89a1"
      },
      "outputs": [],
      "source": [
        "def reward(y):\n",
        "    r=0\n",
        "    winner = 0\n",
        "    y = np.array(y).reshape(3,3)\n",
        "    y[np.where(y==2)] = -1\n",
        "    go,winner,tie = check_game_over_3(y)\n",
        "    if go == True:\n",
        "        if winner == 1:\n",
        "            r = 100\n",
        "        elif winner == 2:\n",
        "            r = -100\n",
        "    if tie == True:\n",
        "        r = 10\n",
        "    return r"
      ]
    },
    {
      "cell_type": "code",
      "execution_count": null,
      "id": "3e3105e1",
      "metadata": {
        "id": "3e3105e1"
      },
      "outputs": [],
      "source": [
        "REWARDS = np.array([0]*len(STATES))\n",
        "for i in range(len(STATES)):\n",
        "  REWARDS[i] = reward(STATES[i])"
      ]
    },
    {
      "cell_type": "code",
      "source": [
        "with open('rewards.data','wb') as filehandle:\n",
        "  pickle.dump(REWARDS, filehandle)"
      ],
      "metadata": {
        "id": "f7ykBm5MIszh"
      },
      "id": "f7ykBm5MIszh",
      "execution_count": null,
      "outputs": []
    },
    {
      "cell_type": "code",
      "execution_count": null,
      "id": "a984aa23",
      "metadata": {
        "id": "a984aa23"
      },
      "outputs": [],
      "source": [
        "A = np.zeros(9)\n",
        "for a in range(9):\n",
        "    for "
      ]
    },
    {
      "cell_type": "code",
      "execution_count": null,
      "id": "797e2feb",
      "metadata": {
        "id": "797e2feb"
      },
      "outputs": [],
      "source": [
        "W = np.array([0.0]*len(STATES))\n",
        "pi_star = [0]*len(STATES)\n",
        "gamma = 0.1"
      ]
    },
    {
      "cell_type": "code",
      "source": [
        ""
      ],
      "metadata": {
        "id": "phEEJ7X7XxRN"
      },
      "id": "phEEJ7X7XxRN",
      "execution_count": null,
      "outputs": []
    },
    {
      "cell_type": "code",
      "execution_count": null,
      "id": "bb00f338",
      "metadata": {
        "id": "bb00f338"
      },
      "outputs": [],
      "source": [
        "for k in range(10):\n",
        "    for i,s in enumerate(STATES):\n",
        "        # print(i)\n",
        "        Re =[-1000]*9\n",
        "        for a in range(9):\n",
        "          if s[a] == 0:\n",
        "            R_bar_a = 0\n",
        "            # for j in range(len(STATES)):\n",
        "                # R = REWARDS[j]\n",
        "            Re[a] = np.dot(transition_probability[i][a],REWARDS+gamma*W)\n",
        "        print(i,Re)\n",
        "            # Re[a] = R_bar_a+gamma*np.dot(transition_probability[i][a],W)\n",
        "        W[i]= np.max(Re)\n",
        "        pi_star[i] = np.argmax(Re)\n",
        "    print(W)\n",
        "    "
      ]
    },
    {
      "cell_type": "code",
      "source": [
        "Re =[-1000]*9\n",
        "i = 1250\n",
        "for a in range(9):\n",
        "    R_bar_a = 0\n",
        "    # for j in range(len(STATES)):\n",
        "        # R = REWARDS[j]\n",
        "    Re[a] = np.dot(transition_probability[i][a],REWARDS+gamma*W)\n",
        "print(i,Re)\n",
        "    # Re[a] = R_bar_a+gamma*np.dot(transition_probability[i][a],W)\n",
        "W[i]= np.max(Re)\n",
        "pi_star[i] = np.argmax(Re)"
      ],
      "metadata": {
        "colab": {
          "base_uri": "https://localhost:8080/"
        },
        "id": "_-siO4rpFfyp",
        "outputId": "f44e44b6-9dae-4173-a29d-1f364904d9eb"
      },
      "id": "_-siO4rpFfyp",
      "execution_count": null,
      "outputs": [
        {
          "output_type": "stream",
          "name": "stdout",
          "text": [
            "1250 [0.0, -47.29991758357926, -44.71268202627609, 0.0, 0.0, -99.99038659793638, 0.0, 0.0, 0.0]\n"
          ]
        }
      ]
    },
    {
      "cell_type": "code",
      "source": [
        "W[1250]"
      ],
      "metadata": {
        "colab": {
          "base_uri": "https://localhost:8080/"
        },
        "id": "7sLcvt5_FAMF",
        "outputId": "2262646b-f1cf-403a-f14e-461e0134b6b4"
      },
      "id": "7sLcvt5_FAMF",
      "execution_count": null,
      "outputs": [
        {
          "output_type": "execute_result",
          "data": {
            "text/plain": [
              "0.0"
            ]
          },
          "metadata": {},
          "execution_count": 73
        }
      ]
    },
    {
      "cell_type": "code",
      "execution_count": null,
      "id": "6ea6829c",
      "metadata": {
        "id": "6ea6829c",
        "colab": {
          "base_uri": "https://localhost:8080/"
        },
        "outputId": "89c5830b-b8a0-49b7-ee44-59cb6a2718e6"
      },
      "outputs": [
        {
          "output_type": "stream",
          "name": "stdout",
          "text": [
            "[0, 6, 3, 4, 2, 4, 1, 3, 6, 7, 7, 2, 2, 2, 0, 0, 0, 6, 5, 5, 0, 4, 0, 5, 4, 4, 4, 0, 6, 6, 5, 6, 5, 6, 8, 8, 6, 1, 5, 2, 3, 2, 3, 3, 8, 8, 8, 3, 3, 2, 7, 7, 7, 3, 7, 2, 0, 1, 8, 6, 8, 8, 4, 4, 4, 5, 7, 4, 5, 6, 7, 4, 4, 4, 7, 4, 8, 4, 6, 6, 6, 6, 4, 6, 6, 8, 8, 8, 8, 8, 6, 4, 8, 7, 4, 4, 3, 3, 4, 3, 3, 3, 3, 6, 8, 6, 8, 4, 3, 4, 4, 7, 4, 4, 4, 4, 6, 8, 4, 4, 3, 6, 6, 4, 6, 6, 8, 8, 8, 8, 5, 4, 6, 4, 4, 3, 8, 3, 3, 3, 3, 8, 6, 8, 4, 5, 4, 6, 4, 4, 4, 2, 2, 2, 2, 2, 1, 1, 1, 1, 1, 8, 8, 8, 2, 2, 8, 8, 1, 5, 4, 4, 2, 8, 4, 1, 1, 5, 4, 4, 4, 2, 2, 2, 2, 1, 1, 1, 1, 6, 2, 6, 6, 2, 2, 6, 3, 3, 3, 3, 2, 2, 3, 2, 1, 2, 2, 2, 1, 1, 1, 8, 6, 6, 8, 8, 2, 3, 3, 1, 2, 4, 4, 2, 2, 1, 1, 8, 7, 8, 7, 8, 7, 1, 4, 2, 1, 6, 6, 6, 3, 6, 8, 4, 3, 6, 4, 4, 8, 7, 4, 5, 4, 7, 7, 7, 7, 6, 7, 4, 6, 8, 3, 4, 4, 7, 7, 8, 7, 2, 4, 4, 4, 8, 4, 4, 4, 7, 6, 5, 7, 3, 5, 6, 8, 4, 5, 5, 7, 7, 7, 0, 7, 4, 6, 4, 3, 4, 7, 7, 8, 3, 5, 4, 6, 4, 4, 4, 4, 6, 4, 4, 4, 0, 0, 0, 0, 0, 7, 7, 2, 7, 2, 0, 2, 7, 5, 4, 2, 4, 2, 4, 4, 4, 5, 4, 0, 0, 0, 0, 0, 0, 0, 2, 0, 0, 2, 2, 0, 3, 0, 0, 3, 2, 0, 3, 2, 2, 0, 0, 0, 7, 0, 2, 7, 2, 7, 0, 2, 4, 4, 0, 0, 0, 0, 2, 7, 8, 7, 8, 7, 4, 2, 0, 6, 6, 6, 2, 5, 8, 6, 5, 4, 4, 6, 6, 6, 3, 6, 6, 8, 8, 8, 8, 8, 4, 4, 4, 8, 4, 4, 4, 8, 6, 8, 4, 3, 4, 5, 5, 5, 6, 5, 5, 6, 6, 5, 4, 6, 6, 6, 5, 6, 6, 8, 8, 8, 8, 4, 4, 7, 4, 4, 4, 6, 8, 6, 5, 6, 5, 5, 6, 5, 5, 6, 0, 6, 6, 8, 8, 8, 6, 5, 4, 4, 4, 5, 4, 0, 1, 5, 4, 5, 5, 0, 1, 1, 0, 8, 8, 0, 3, 1, 0, 1, 1, 0, 3, 5, 5, 0, 0, 0, 0, 6, 6, 4, 4, 1, 1, 0, 0, 8, 1, 8, 7, 8, 3, 1, 5, 6, 6, 6, 4, 5, 5, 2, 5, 5, 5, 4, 4, 8, 4, 4, 4, 2, 1, 8, 4, 4, 4, 2, 1, 6, 6, 4, 4, 2, 7, 2, 6, 5, 5, 5, 6, 5, 5, 5, 4, 7, 4, 4, 4, 0, 0, 0, 0, 0, 0, 6, 6, 5, 0, 0, 7, 6, 5, 4, 8, 5, 5, 5, 6, 4, 4, 4, 0, 0, 0, 0, 6, 8, 4, 5, 6, 0, 4, 4, 2, 0, 0, 0, 0, 0, 6, 2, 0, 6, 2, 1, 7, 6, 2, 0, 0, 1, 2, 4, 0, 5, 5, 4, 4, 4, 5, 5, 4, 0, 3, 3, 6, 3, 3, 3, 2, 1, 2, 2, 2, 2, 2, 1, 1, 1, 1, 1, 2, 1, 6, 7, 3, 2, 3, 2, 3, 3, 3, 0, 2, 2, 2, 2, 0, 8, 6, 0, 5, 0, 0, 0, 0, 0, 1, 3, 3, 3, 7, 8, 3, 3, 1, 1, 1, 1, 0, 0, 0, 0, 0, 2, 1, 2, 2, 2, 1, 1, 1, 0, 0, 0, 2, 2, 1, 1, 0, 0, 3, 3, 1, 0, 3, 2, 2, 1, 2, 8, 2, 4, 2, 1, 6, 8, 3, 4, 2, 6, 2, 2, 2, 2, 0, 2, 7, 4, 4, 0, 8, 8, 8, 3, 0, 2, 2, 2, 2, 7, 7, 3, 3, 8, 6, 4, 4, 0, 6, 4, 4, 8, 2, 4, 8, 0, 1, 2, 2, 2, 1, 0, 2, 0, 2, 2, 4, 2, 4, 8, 8, 8, 8, 8, 4, 7, 7, 7, 7, 7, 2, 8, 8, 8, 8, 4, 7, 7, 7, 7, 4, 8, 8, 8, 1, 7, 7, 7, 0, 8, 8, 4, 7, 7, 4, 8, 0, 7, 3, 2, 0, 6, 6, 6, 6, 6, 3, 6, 6, 6, 6, 0, 6, 6, 6, 4, 6, 6, 0, 6, 2, 4, 6, 8, 6, 6, 8, 8, 8, 4, 0, 4, 4, 4, 5, 4, 8, 6, 5, 4, 4, 4, 6, 7, 8, 3, 3, 5, 6, 0, 5, 4, 6, 6, 8, 6, 6, 3, 3, 8, 6, 4, 4, 0, 7, 8, 7, 8, 7, 4, 4, 6, 6, 0, 3, 6, 7, 3, 6, 5, 5, 5, 6, 4, 4, 4, 6, 6, 4, 6, 6, 4, 4, 4, 0, 6, 2, 6, 6, 0, 8, 6, 6, 4, 6, 4, 4, 5, 5, 4, 4, 4, 4, 5, 4, 6, 8, 3, 3, 3, 8, 3, 3, 3, 8, 8, 8, 5, 8, 8, 2, 2, 2, 2, 8, 8, 2, 2, 2, 8, 2, 3, 3, 5, 3, 2, 8, 3, 3, 3, 8, 6, 4, 3, 4, 0, 4, 4, 7, 4, 2, 8, 8, 4, 2, 2, 2, 2, 6, 2, 3, 2, 3, 3, 8, 3, 3, 3, 4, 3, 3, 3, 8, 8, 2, 7, 4, 4, 3, 3, 3, 3, 3, 4, 6, 4, 4, 6, 4, 4, 6, 2, 4, 7, 7, 8, 7, 6, 4, 8, 4, 5, 0, 8, 5, 0, 4, 4, 4, 0, 4, 4, 4, 6, 3, 3, 3, 0, 0, 0, 6, 7, 8, 3, 4, 4, 4, 0, 0, 8, 7, 0, 0, 4, 4, 6, 6, 0, 6, 6, 3, 6, 6, 6, 0, 6, 6, 8, 6, 0, 4, 4, 5, 5, 4, 4, 0, 4, 5, 6, 4, 6, 6, 6, 8, 8, 1, 8, 8, 5, 1, 1, 1, 3, 1, 3, 3, 1, 3, 3, 7, 4, 1, 6, 4, 1, 6, 4, 4, 3, 3, 4, 4, 3, 0, 6, 8, 8, 5, 7, 4, 4, 3, 3, 3, 3, 3, 6, 4, 4, 6, 4, 2, 2, 2, 2, 2, 2, 2, 2, 2, 2, 2, 2, 2, 2, 2, 2, 2, 2, 2, 2, 2, 2, 2, 2, 2, 2, 2, 1, 1, 1, 1, 1, 1, 1, 1, 1, 1, 1, 1, 1, 1, 1, 1, 1, 1, 1, 1, 1, 1, 1, 1, 1, 1, 1, 2, 2, 1, 1, 8, 7, 1, 6, 2, 1, 1, 2, 2, 2, 2, 1, 2, 2, 0, 4, 0, 5, 4, 0, 2, 2, 2, 2, 2, 2, 2, 2, 2, 2, 2, 2, 2, 2, 2, 2, 2, 2, 1, 1, 1, 1, 1, 1, 1, 1, 1, 1, 1, 1, 1, 1, 1, 1, 1, 1, 2, 6, 2, 6, 0, 0, 2, 0, 6, 2, 2, 3, 3, 3, 0, 2, 2, 2, 2, 2, 2, 2, 2, 2, 1, 1, 1, 1, 1, 1, 1, 1, 1, 8, 0, 2, 4, 6, 1, 2, 6, 8, 0, 4, 4, 4, 0, 4, 5, 0, 8, 8, 8, 8, 8, 0, 8, 0, 0, 3, 5, 5, 7, 4, 4, 7, 6, 6, 4, 4, 4, 4, 3, 4, 8, 0, 0, 7, 8, 0, 4, 5, 0, 6, 6, 8, 0, 4, 5, 6, 0, 4, 7, 5, 5, 5, 0, 4, 4, 4, 8, 8, 4, 0, 0, 4, 4, 4, 6, 7, 4, 4, 0, 8, 8, 8, 8, 0, 7, 2, 5, 7, 6, 7, 2, 0, 4, 4, 4, 2, 5, 5, 4, 4, 4, 5, 5, 4, 4, 7, 3, 3, 3, 7, 7, 3, 7, 7, 7, 7, 3, 2, 2, 2, 7, 2, 2, 7, 2, 3, 3, 3, 6, 3, 2, 6, 7, 7, 8, 3, 4, 4, 8, 4, 4, 6, 6, 0, 4, 8, 2, 4, 0, 2, 8, 0, 2, 2, 4, 2, 4, 2, 4, 4, 8, 4, 4, 7, 7, 7, 5, 8, 4, 4, 7, 7, 2, 8, 7, 2, 4, 4, 4, 6, 4, 4, 6, 4, 6, 0, 4, 0, 0, 0, 8, 6, 7, 8, 0, 4, 4, 0, 5, 5, 4, 4, 4, 4, 5, 6, 4, 0, 6, 6, 1, 7, 0, 7, 7, 0, 7, 0, 0, 0, 8, 0, 0, 3, 3, 0, 3, 5, 8, 0, 7, 6, 4, 4, 6, 1, 4, 0, 0, 4, 4, 3, 6, 1, 8, 4, 4, 7, 7, 0, 8, 1, 7, 0, 0, 6, 4, 4, 6, 4, 0, 0, 0, 0, 0, 0, 0, 0, 0, 0, 0, 0, 0, 0, 0, 0, 0, 0, 0, 0, 0, 0, 0, 0, 0, 0, 0, 2, 2, 0, 0, 1, 7, 0, 6, 2, 2, 0, 1, 0, 2, 2, 4, 2, 2, 4, 4, 5, 1, 4, 1, 0, 0, 0, 0, 0, 0, 0, 0, 0, 0, 0, 0, 0, 0, 0, 0, 0, 0, 0, 0, 2, 1, 2, 0, 1, 1, 1, 2, 1, 0, 1, 2, 0, 1, 3, 1, 0, 0, 0, 0, 0, 0, 0, 0, 0, 8, 7, 4, 0, 1, 0, 0, 2, 6, 5, 5, 5, 8, 4, 4, 4, 0, 4, 4, 4, 8, 6, 5, 4, 5, 6, 5, 5, 8, 8, 8, 0, 8, 8, 7, 5, 5, 1, 6, 6, 4, 4, 1, 4, 4, 6, 5, 5, 4, 4, 4, 5, 5, 4, 4, 6, 3, 3, 3, 6, 6, 3, 6, 5, 6, 5, 5, 1, 6, 1, 1, 3, 6, 3, 3, 1, 5, 6, 3, 5, 6, 1, 4, 8, 4, 4, 8, 8, 8, 4, 8, 4, 4, 8, 8, 8, 0, 4, 0, 4, 8, 4, 4, 4, 5, 4, 4, 8, 4, 4, 5, 4, 4, 8, 7, 5, 4, 4, 5, 5, 6, 5, 5, 6, 6, 5, 3, 8, 0, 6, 8, 0, 7, 5, 8, 6, 6, 0, 0, 8, 6, 4, 4, 5, 5, 4, 4, 5, 5, 5, 4, 0, 1, 0, 8, 6, 6, 6, 0, 6, 0, 0, 0, 8, 6, 0, 0, 3, 3, 5, 0, 3, 8, 4, 4, 8, 8, 4, 8, 0, 4, 4, 1, 8, 4, 4, 5, 4, 4, 8, 0, 7, 4, 4, 5, 6, 5, 6, 5, 4, 1, 1, 0, 0, 8, 2, 1, 0, 6, 8, 0, 8, 0, 0, 4, 4, 4, 5, 2, 2, 5, 0, 0, 1, 0, 0, 1, 8, 2, 0, 5, 2, 0, 0, 2, 2, 2, 3, 8, 7, 1, 0, 6, 0, 1, 0, 0, 5, 5, 1, 1, 1, 1, 5, 5, 2, 2, 2, 2, 1, 1, 2, 1, 2, 5, 1, 5, 5, 2, 2, 5, 2, 5, 0, 4, 4, 0, 4, 4, 0, 4, 4, 0, 0, 0, 0, 2, 2, 2, 4, 4, 2, 2, 4, 4, 2, 4, 4, 8, 8, 0, 7, 7, 1, 8, 8, 7, 7, 1, 8, 0, 7, 4, 0, 0, 6, 6, 4, 6, 6, 2, 6, 1, 2, 0, 0, 0, 1, 5, 5, 0, 0, 0, 0, 0, 8, 2, 0, 0, 5, 0, 0, 0, 0, 0, 1, 4, 4, 1, 4, 4, 2, 0, 2, 4, 2, 0, 0, 0, 0, 0, 0, 0, 0, 0, 0, 0, 0, 0, 6, 6, 1, 6, 2, 4, 0, 1, 0, 0, 1, 0, 0, 0, 0, 4, 4, 0, 2, 2, 0, 0, 0, 0, 0, 6, 4, 3, 2, 0, 0, 0, 2, 1, 0, 0, 1, 3, 3, 1, 1, 1, 0, 3, 3, 2, 2, 2, 0, 2, 3, 1, 2, 2, 2, 2, 2, 2, 2, 3, 1, 1, 1, 1, 7, 7, 1, 2, 1, 1, 2, 2, 2, 2, 1, 2, 2, 2, 2, 1, 1, 1, 6, 1, 6, 1, 0, 0, 3, 3, 0, 3, 3, 0, 0, 0, 2, 2, 0, 2, 0, 0, 3, 0, 2, 8, 8, 1, 0, 0, 0, 2, 2, 0, 0, 2, 0, 0, 0, 0, 0, 0, 0, 0, 7, 1, 1, 0, 0, 1, 0, 3, 1, 1, 0, 0, 0, 0, 0, 0, 1, 0, 2, 1, 0, 0, 8, 8, 0, 7, 7, 1, 8, 8, 4, 2, 2, 2, 8, 2, 2, 2, 0, 6, 6, 0, 2, 2, 2, 2, 2, 8, 8, 0, 7, 7, 1, 8, 2, 2, 2, 0, 6, 6, 1, 2, 2, 2, 8, 1, 7, 0, 0, 1, 6, 2, 0, 2, 2, 6, 8, 7, 8, 5, 6, 7, 6, 8, 4, 4, 5, 4, 4, 4, 5, 7, 6, 8, 7, 5, 3, 3, 3, 4, 7, 8, 4, 6, 3, 5, 8, 6, 4, 4, 6, 4, 2, 2, 2, 7, 8, 6, 8, 3, 3, 5, 8, 2, 2, 2, 7, 4, 4, 8, 3, 6, 4, 2, 2, 7, 8, 6, 5, 8, 7, 8, 6, 4, 4, 6, 4, 5, 4, 5, 4, 3, 3, 6, 4, 8, 6, 1, 1, 1, 1, 2, 2, 2, 2, 1, 1, 1, 2, 2, 1, 1, 8, 4, 4, 5, 4, 6, 7, 6, 5, 8, 3, 8, 3, 8, 4, 7, 8, 4, 6, 4, 3, 6, 7, 6, 5, 5, 8, 4, 4, 6, 4, 8, 7, 5, 4, 6, 8, 4, 2, 2, 2, 2, 2, 7, 8, 3, 6, 3, 7, 5, 3, 2, 2, 7, 4, 4, 8, 3, 6, 2, 0, 0, 0, 0, 0, 0, 0, 0, 0, 0, 0, 0, 0, 0, 7, 6, 6, 8, 5, 5, 4, 8, 4, 7, 4, 4, 8, 6, 5, 4, 1, 1, 1, 1, 6, 3, 6, 3, 4, 8, 0, 0, 0, 0, 0, 0, 0, 0, 1, 1, 2, 2, 2, 1, 2, 0, 0, 0, 1, 1, 2, 2, 0, 0, 0, 0, 0, 0, 0, 0, 0, 0, 0, 0, 0, 0, 0, 0, 0, 0, 0, 0, 0, 0, 0, 0, 0, 0, 0, 0, 0, 0, 0, 0, 0, 0, 0, 0, 0, 0, 0, 0, 0, 0, 0, 0, 0, 0, 0, 0, 0, 0, 0, 0, 0, 0, 0, 0, 0, 0, 0, 0, 0, 0, 0, 0, 0, 0, 0, 0, 0, 0, 0, 0, 0, 0, 0, 0, 0, 0, 0, 0, 0, 0, 0, 0, 0, 0, 0, 0, 0, 0, 0, 0, 0, 0, 0, 0, 0, 0, 0, 0, 0, 0, 0, 0, 0, 0, 0, 0, 0, 0, 0, 0, 0, 0, 0, 0, 0, 0, 0, 0, 0, 0, 0, 0, 0, 0, 0, 0, 0, 0, 0, 0, 0, 0, 0, 0, 0, 0, 0, 0, 0, 0, 0, 0, 0, 0, 0, 0, 0, 0, 0, 0, 0, 0, 0, 0, 0, 0, 0, 0, 0, 0, 0, 0, 0, 0, 0, 0, 0, 0, 0, 0, 0, 0, 0, 0, 0, 0, 0, 0, 0, 0, 0, 0, 0, 0, 0, 0, 0, 0, 0, 0, 0, 0, 0, 0, 0, 0, 0, 0, 0, 0, 0, 0, 0, 0, 0, 0, 0, 0, 0, 0, 0, 0, 0, 0, 0, 0, 0, 0, 0, 0, 0, 0, 0, 0, 0, 0, 0, 0, 0, 0, 0, 0, 0, 0, 0, 0, 0, 0, 0, 0, 0, 0, 0, 0, 0, 0, 0, 0, 0, 0, 0, 0, 0, 0, 0, 0, 0, 0, 0, 0, 0, 0, 0, 0, 0, 0, 0, 0, 0, 0, 0, 0, 0, 0, 0, 0, 0, 0, 0, 0, 0, 0, 0, 0, 0, 0, 0, 0, 0, 0, 0, 0, 0, 0, 0, 0, 0, 0, 0, 0, 0, 0, 0, 0, 0, 0, 0, 0, 0, 0, 0, 0, 0, 0, 0, 0, 0, 0, 0, 0, 0, 0, 0, 0, 0, 0, 0, 0, 0, 0, 0, 0, 0, 0, 0, 0, 0, 0, 0, 0, 0, 0, 0, 0, 0, 0, 0, 0, 0, 0, 0, 0, 0, 0, 0, 0, 0, 0, 0, 0, 0, 0, 0, 0, 0, 0, 0, 0, 0, 0, 0, 0, 0, 0, 0, 0, 0, 0, 0, 0, 0, 0, 0, 0, 0, 0, 0, 0, 0, 0, 0, 0, 0, 0, 0, 0, 0, 0, 0, 0, 0, 0, 0, 0, 0, 0, 0, 0, 0, 0, 0, 0, 0, 0, 0, 0, 0, 0, 0, 0, 0, 0, 0, 0, 0, 0, 0, 0, 0, 0, 0, 0, 0, 0, 0, 0, 0, 0, 0, 0, 0, 0, 0, 0, 0, 0, 0, 0, 0, 0, 0, 0, 0, 0, 0, 0, 0, 0, 0, 0, 0, 0, 0, 0, 0, 0, 0, 0, 0, 0, 0, 0, 0, 0, 0, 0, 0, 0, 0, 0, 0, 0, 0, 0, 0, 0, 0, 0, 0, 0, 0, 0, 0, 0, 0, 0, 0, 0, 0, 0, 0, 0, 0, 0, 0, 0, 0, 0, 0, 0, 0, 0, 0, 0, 0, 0, 0, 0, 0, 0, 0, 0, 0, 0, 0, 0, 0, 0, 0, 0, 0, 0, 0, 0, 0, 0, 0, 0, 0, 0, 0, 0, 0, 0, 0, 0, 0, 0, 0, 0, 0, 0, 0, 0, 0, 0, 0, 0, 0, 0, 0, 0, 0, 0, 0, 0, 0, 0, 0, 0, 0, 0, 0, 0, 0, 0, 0, 0, 0, 0, 0, 0, 0, 0, 0, 0, 0, 0, 0, 0, 0, 0, 0, 0, 0, 0, 0, 0, 0, 0, 0, 0, 0, 0, 0, 0, 0, 0, 0, 0, 0, 0, 0, 0, 0, 0, 0, 0, 0, 0, 0, 0, 0, 0, 0, 0, 0, 0, 0, 0, 0, 0, 0, 0, 0, 0, 0, 0, 0, 0, 0, 0, 0, 0, 0, 0, 0, 0, 0, 0, 0, 0, 0, 0, 0, 0, 0, 0, 0, 0, 0, 0, 0, 0, 0, 0, 0, 0, 0, 0, 0, 0, 0, 0, 0, 0, 0, 0, 0, 0, 0, 0, 0, 0, 0, 0, 0, 0, 0, 0, 0, 0, 0, 0, 0, 0, 0, 0, 0, 0, 0, 0, 0, 0, 0, 0, 0, 0, 0, 0, 0, 0, 0, 0, 0, 0, 0, 0, 0, 0, 0, 0, 0, 0, 0, 0, 0, 0, 0, 0, 0, 0, 0, 0, 0, 0, 0, 0, 0, 0, 0, 0, 0, 0, 0, 0, 0, 0, 0, 0, 0, 0, 0, 0, 0, 0, 0, 0, 0, 0, 0, 0, 0, 0, 0, 0, 0, 0, 0, 0, 0, 0, 0, 0, 0, 0, 0, 0, 0, 0, 0, 0, 0, 0, 0, 0, 0, 0, 0, 0, 0, 0, 0, 0, 0, 0, 0, 0, 0, 0, 0, 0, 0, 0, 0, 0, 0, 0, 0, 0, 0, 0, 0, 0, 0, 0, 0, 0, 0, 0, 0, 0, 0, 0, 0, 0, 0, 0, 0, 0, 0, 0, 0, 0, 0, 0, 0, 0, 0, 0, 0, 0, 0, 0, 0, 0, 0, 0, 0, 0, 0, 0, 0, 0, 0, 0, 0, 0, 0, 0, 0, 0, 0, 0, 0, 0, 0, 0, 0, 0, 0, 0, 0, 0, 0, 0, 0, 0, 0, 0, 0, 0, 0, 0, 0, 0, 0, 0, 0, 0, 0, 0, 0, 0, 0, 0, 0, 0, 0, 0, 0, 0, 0, 0, 0, 0, 0, 0, 0, 0, 0, 0, 0, 0, 0, 0, 0, 0, 0, 0, 0, 0, 0, 0, 0, 0, 0, 0, 0, 0, 0, 0, 0, 0, 0, 0, 0, 0, 0, 0, 0, 0, 0, 0, 0, 0, 0, 0, 0, 0, 0, 0, 0, 0, 0, 0, 0, 0, 0]\n"
          ]
        }
      ],
      "source": [
        "print(pi_star)"
      ]
    },
    {
      "cell_type": "code",
      "source": [
        "with open('policy.data','wb') as filehandle:\n",
        "  pickle.dump(pi_star, filehandle)"
      ],
      "metadata": {
        "id": "_IzD9Sc51qez"
      },
      "id": "_IzD9Sc51qez",
      "execution_count": null,
      "outputs": []
    },
    {
      "cell_type": "code",
      "source": [
        "te = STATES[123].copy()"
      ],
      "metadata": {
        "id": "wDrO3QBB8ROo"
      },
      "id": "wDrO3QBB8ROo",
      "execution_count": null,
      "outputs": []
    },
    {
      "cell_type": "code",
      "source": [
        "y = np.array(te).reshape(3,3)\n",
        "y[np.where(y==2)] = -1\n",
        "print(y)"
      ],
      "metadata": {
        "colab": {
          "base_uri": "https://localhost:8080/"
        },
        "id": "y_E318H18YMI",
        "outputId": "aeb3623f-c443-4149-de2f-a3b15ef9ef58"
      },
      "id": "y_E318H18YMI",
      "execution_count": null,
      "outputs": [
        {
          "output_type": "stream",
          "name": "stdout",
          "text": [
            "[[ 1  0 -1]\n",
            " [ 1  0  0]\n",
            " [-1  0  0]]\n"
          ]
        }
      ]
    },
    {
      "cell_type": "code",
      "source": [
        "STATES[1250]\n"
      ],
      "metadata": {
        "colab": {
          "base_uri": "https://localhost:8080/"
        },
        "id": "JjSHiWA9EgB0",
        "outputId": "298948fc-6829-4d33-afc5-9beb35651ff1"
      },
      "id": "JjSHiWA9EgB0",
      "execution_count": null,
      "outputs": [
        {
          "output_type": "execute_result",
          "data": {
            "text/plain": [
              "array([1, 0, 0, 1, 2, 0, 2, 2, 1])"
            ]
          },
          "metadata": {},
          "execution_count": 69
        }
      ]
    },
    {
      "cell_type": "code",
      "source": [
        "REWARDS[1250]"
      ],
      "metadata": {
        "colab": {
          "base_uri": "https://localhost:8080/"
        },
        "id": "sP4oKgkBEl9G",
        "outputId": "5e5d5e93-408c-4570-ac8c-2d038ccf3c9b"
      },
      "id": "sP4oKgkBEl9G",
      "execution_count": null,
      "outputs": [
        {
          "output_type": "execute_result",
          "data": {
            "text/plain": [
              "0"
            ]
          },
          "metadata": {},
          "execution_count": 70
        }
      ]
    },
    {
      "cell_type": "code",
      "source": [
        "pi_star[1250]"
      ],
      "metadata": {
        "colab": {
          "base_uri": "https://localhost:8080/"
        },
        "id": "MU0EIO8e8ciV",
        "outputId": "a0356f7d-f567-43e8-cb2f-c9efc43e07d9"
      },
      "id": "MU0EIO8e8ciV",
      "execution_count": null,
      "outputs": [
        {
          "output_type": "execute_result",
          "data": {
            "text/plain": [
              "2"
            ]
          },
          "metadata": {},
          "execution_count": 78
        }
      ]
    },
    {
      "cell_type": "code",
      "source": [
        ""
      ],
      "metadata": {
        "id": "IaqD1HXfE-yA"
      },
      "id": "IaqD1HXfE-yA",
      "execution_count": null,
      "outputs": []
    },
    {
      "cell_type": "code",
      "source": [
        "for i in range(9):\n",
        "  print(np.sum(transition_probability[1250][i]))"
      ],
      "metadata": {
        "colab": {
          "base_uri": "https://localhost:8080/"
        },
        "id": "Q0hppQklE1Jr",
        "outputId": "64cc93db-ea44-4acc-efb5-6f39b9814d44"
      },
      "id": "Q0hppQklE1Jr",
      "execution_count": null,
      "outputs": [
        {
          "output_type": "stream",
          "name": "stdout",
          "text": [
            "0.0\n",
            "1.0\n",
            "1.0\n",
            "0.0\n",
            "0.0\n",
            "1.0\n",
            "0.0\n",
            "0.0\n",
            "0.0\n"
          ]
        }
      ]
    }
  ],
  "metadata": {
    "kernelspec": {
      "display_name": "Python 3 (ipykernel)",
      "language": "python",
      "name": "python3"
    },
    "language_info": {
      "codemirror_mode": {
        "name": "ipython",
        "version": 3
      },
      "file_extension": ".py",
      "mimetype": "text/x-python",
      "name": "python",
      "nbconvert_exporter": "python",
      "pygments_lexer": "ipython3",
      "version": "3.8.10"
    },
    "colab": {
      "name": "value_iteration.ipynb",
      "provenance": []
    }
  },
  "nbformat": 4,
  "nbformat_minor": 5
}