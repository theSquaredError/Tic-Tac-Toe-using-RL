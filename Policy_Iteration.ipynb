{
  "nbformat": 4,
  "nbformat_minor": 0,
  "metadata": {
    "colab": {
      "name": "Policy Iteration.ipynb",
      "provenance": [],
      "collapsed_sections": []
    },
    "kernelspec": {
      "name": "python3",
      "display_name": "Python 3"
    },
    "language_info": {
      "name": "python"
    }
  },
  "cells": [
    {
      "cell_type": "code",
      "metadata": {
        "id": "O2G2JgdaQSBT"
      },
      "source": [
        "import numpy as np\n",
        "import pickle"
      ],
      "execution_count": null,
      "outputs": []
    },
    {
      "cell_type": "code",
      "metadata": {
        "colab": {
          "base_uri": "https://localhost:8080/"
        },
        "id": "Fr1t2Vc3QdCV",
        "outputId": "763f19ef-fbef-4a08-c0dd-1f11a7666510"
      },
      "source": [
        "from google.colab import drive\n",
        "drive.mount('/content/drive')"
      ],
      "execution_count": null,
      "outputs": [
        {
          "output_type": "stream",
          "name": "stdout",
          "text": [
            "Mounted at /content/drive\n"
          ]
        }
      ]
    },
    {
      "cell_type": "code",
      "metadata": {
        "id": "8HMDCwlgQh90"
      },
      "source": [
        "with open('/content/drive/MyDrive/RL/new/states.data', 'rb') as filehandle:\n",
        "    # read the data as binary data stream\n",
        "    STATES = pickle.load(filehandle)\n",
        "\n",
        "with open('/content/drive/MyDrive/RL/new/transition_prob.data', 'rb') as filehandle:\n",
        "    # read the data as binary data stream\n",
        "    transition_probability = pickle.load(filehandle)"
      ],
      "execution_count": null,
      "outputs": []
    },
    {
      "cell_type": "code",
      "metadata": {
        "id": "QWyVMx94Qx82"
      },
      "source": [
        "STATES = np.asarray(STATES) "
      ],
      "execution_count": null,
      "outputs": []
    },
    {
      "cell_type": "code",
      "source": [
        "len(STATES)"
      ],
      "metadata": {
        "colab": {
          "base_uri": "https://localhost:8080/"
        },
        "id": "4_wyzo04rCPX",
        "outputId": "e7dfa27c-fcfd-4732-e7bb-b4c47d59c2a2"
      },
      "execution_count": null,
      "outputs": [
        {
          "output_type": "execute_result",
          "data": {
            "text/plain": [
              "3381"
            ]
          },
          "metadata": {},
          "execution_count": 6
        }
      ]
    },
    {
      "cell_type": "code",
      "metadata": {
        "id": "gN2wyNFlQ1VK"
      },
      "source": [
        "def check_game_over_3(markers):\n",
        "  game_over = False\n",
        "  tie = False\n",
        "  winner =0\n",
        "  x_pos = 0\n",
        "  for x in markers:\n",
        "    #check columns\n",
        "    if sum(x) == 3:\n",
        "      winner = 1\n",
        "      game_over = True\n",
        "    if sum(x) == -3:\n",
        "      winner = 2\n",
        "      game_over = True\n",
        "    \n",
        "    #check rows\n",
        "    if markers[0][x_pos] + markers [1][x_pos] + markers [2][x_pos] == 3:\n",
        "      winner = 1\n",
        "      game_over = True\n",
        "    if markers[0][x_pos] + markers [1][x_pos] + markers [2][x_pos] == -3:\n",
        "      winner = 2\n",
        "      game_over = True\n",
        "    x_pos += 1\n",
        "\n",
        "  #check cross\n",
        "  if markers[0][0] + markers[1][1] + markers [2][2] == 3 or markers[2][0] + markers[1][1] + markers [0][2] == 3:\n",
        "    winner = 1\n",
        "    game_over = True\n",
        "  if markers[0][0] + markers[1][1] + markers [2][2] == -3 or markers[2][0] + markers[1][1] + markers [0][2] == -3:\n",
        "    winner = 2\n",
        "    game_over = True\n",
        "\n",
        "  #check for tie\n",
        "  if game_over == False:\n",
        "    tie = True\n",
        "    for row in markers:\n",
        "      for i in row:\n",
        "        if i == 0:\n",
        "          tie = False\n",
        "    #if it is a tie, then call game over and set winner to 0 (no one)\n",
        "    if tie == True:\n",
        "      game_over = True\n",
        "      winner = 0\n",
        "  return game_over,winner,tie\n",
        "  # if game_over == False:"
      ],
      "execution_count": null,
      "outputs": []
    },
    {
      "cell_type": "code",
      "metadata": {
        "id": "aEAKLpYfQ3jr"
      },
      "source": [
        "def reward(y):\n",
        "    r=0\n",
        "    winner = 0\n",
        "    y = np.array(y).reshape(3,3)\n",
        "    y[np.where(y==2)] = -1\n",
        "    go,winner,tie = check_game_over_3(y)\n",
        "    if go == True:\n",
        "        if winner == 1:\n",
        "            r = 100\n",
        "        elif winner == 2:\n",
        "            r = -100\n",
        "    if tie == True:\n",
        "        r = 10\n",
        "    return r"
      ],
      "execution_count": null,
      "outputs": []
    },
    {
      "cell_type": "code",
      "source": [
        "REWARDS = np.array([0]*len(STATES))\n",
        "for i in range(len(STATES)):\n",
        "  REWARDS[i] = reward(STATES[i])"
      ],
      "metadata": {
        "id": "2cOavlc4l625"
      },
      "execution_count": null,
      "outputs": []
    },
    {
      "cell_type": "markdown",
      "source": [
        "# Generating arbitrary policy"
      ],
      "metadata": {
        "id": "GRbycijpc8QB"
      }
    },
    {
      "cell_type": "code",
      "source": [
        "pi_star = np.array([0]*len(STATES))\n",
        "W = np.array([0.0]*len(STATES))\n",
        "gamma = 0.1"
      ],
      "metadata": {
        "id": "Tt26yXXvdfrn"
      },
      "execution_count": null,
      "outputs": []
    },
    {
      "cell_type": "code",
      "metadata": {
        "id": "OPWwW6uYQ5-Y"
      },
      "source": [
        "for i,s in enumerate(STATES):\n",
        "  if 0 in s:\n",
        "    pi_star[i] = np.where(s==0)[0][0]"
      ],
      "execution_count": null,
      "outputs": []
    },
    {
      "cell_type": "code",
      "source": [
        "pi0 = pi_star.copy()"
      ],
      "metadata": {
        "id": "HYUduB_CuMVe"
      },
      "execution_count": null,
      "outputs": []
    },
    {
      "cell_type": "code",
      "source": [
        "for k in range(10):\n",
        "  for i,s in enumerate(STATES):\n",
        "    action = pi_star[i]\n",
        "    rt = np.dot(transition_probability[i][action],REWARDS)\n",
        "    W[i] = rt + gamma*np.dot(transition_probability[i][action],W)\n",
        "    Re = [-1000]*9\n",
        "    for a in range(9):\n",
        "      if s[a] == 0:\n",
        "        Re[a] = np.dot(transition_probability[i][a],REWARDS+gamma*W)\n",
        "    pi_star[i] = np.argmax(Re)\n",
        "  print(pi_star)"
      ],
      "metadata": {
        "colab": {
          "base_uri": "https://localhost:8080/"
        },
        "id": "F95PbbIDlQhL",
        "outputId": "33527028-9632-437c-da4e-fdfdd5ea9d69"
      },
      "execution_count": null,
      "outputs": [
        {
          "output_type": "stream",
          "name": "stdout",
          "text": [
            "[0 6 3 ... 0 0 0]\n",
            "[0 6 3 ... 0 0 0]\n",
            "[0 6 3 ... 0 0 0]\n",
            "[0 6 3 ... 0 0 0]\n",
            "[0 6 3 ... 0 0 0]\n",
            "[0 6 3 ... 0 0 0]\n",
            "[0 6 3 ... 0 0 0]\n",
            "[0 6 3 ... 0 0 0]\n",
            "[0 6 3 ... 0 0 0]\n",
            "[0 6 3 ... 0 0 0]\n"
          ]
        }
      ]
    },
    {
      "cell_type": "code",
      "source": [
        "pi_star[1250]"
      ],
      "metadata": {
        "colab": {
          "base_uri": "https://localhost:8080/"
        },
        "id": "o6ALReklwjoY",
        "outputId": "5e52ef2c-7013-43f6-a8b5-b8577e47082d"
      },
      "execution_count": null,
      "outputs": [
        {
          "output_type": "execute_result",
          "data": {
            "text/plain": [
              "2"
            ]
          },
          "metadata": {},
          "execution_count": 63
        }
      ]
    },
    {
      "cell_type": "code",
      "source": [
        "with open('p_policy_iteration.data','wb') as filehandle:\n",
        "  pickle.dump(pi_star, filehandle)"
      ],
      "metadata": {
        "id": "kSiaBZzGuHSN"
      },
      "execution_count": null,
      "outputs": []
    }
  ]
}